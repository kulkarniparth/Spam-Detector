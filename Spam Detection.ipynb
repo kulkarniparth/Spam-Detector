{
 "cells": [
  {
   "cell_type": "markdown",
   "metadata": {},
   "source": [
    "# Spam Detection"
   ]
  },
  {
   "cell_type": "markdown",
   "metadata": {},
   "source": [
    "### This is a spam detection system which is trained to detect the spam messages based on the dataset which is labelled and had more than 5000 records. The data is collected from kaggle. The maximum accuracy which I am able to achieve here is 98% using Multinomial Naive Bayes."
   ]
  },
  {
   "cell_type": "code",
   "execution_count": 1,
   "metadata": {},
   "outputs": [],
   "source": [
    "import pandas as pd\n",
    "import numpy as np\n",
    "import matplotlib.pyplot as plt\n",
    "import seaborn as sns"
   ]
  },
  {
   "cell_type": "code",
   "execution_count": 2,
   "metadata": {},
   "outputs": [],
   "source": [
    "data=pd.read_csv('spam.csv',encoding='latin-1')"
   ]
  },
  {
   "cell_type": "code",
   "execution_count": 3,
   "metadata": {},
   "outputs": [
    {
     "data": {
      "text/html": [
       "<div>\n",
       "<style scoped>\n",
       "    .dataframe tbody tr th:only-of-type {\n",
       "        vertical-align: middle;\n",
       "    }\n",
       "\n",
       "    .dataframe tbody tr th {\n",
       "        vertical-align: top;\n",
       "    }\n",
       "\n",
       "    .dataframe thead th {\n",
       "        text-align: right;\n",
       "    }\n",
       "</style>\n",
       "<table border=\"1\" class=\"dataframe\">\n",
       "  <thead>\n",
       "    <tr style=\"text-align: right;\">\n",
       "      <th></th>\n",
       "      <th>v1</th>\n",
       "      <th>v2</th>\n",
       "      <th>Unnamed: 2</th>\n",
       "      <th>Unnamed: 3</th>\n",
       "      <th>Unnamed: 4</th>\n",
       "    </tr>\n",
       "  </thead>\n",
       "  <tbody>\n",
       "    <tr>\n",
       "      <th>0</th>\n",
       "      <td>ham</td>\n",
       "      <td>Go until jurong point, crazy.. Available only ...</td>\n",
       "      <td>NaN</td>\n",
       "      <td>NaN</td>\n",
       "      <td>NaN</td>\n",
       "    </tr>\n",
       "    <tr>\n",
       "      <th>1</th>\n",
       "      <td>ham</td>\n",
       "      <td>Ok lar... Joking wif u oni...</td>\n",
       "      <td>NaN</td>\n",
       "      <td>NaN</td>\n",
       "      <td>NaN</td>\n",
       "    </tr>\n",
       "    <tr>\n",
       "      <th>2</th>\n",
       "      <td>spam</td>\n",
       "      <td>Free entry in 2 a wkly comp to win FA Cup fina...</td>\n",
       "      <td>NaN</td>\n",
       "      <td>NaN</td>\n",
       "      <td>NaN</td>\n",
       "    </tr>\n",
       "    <tr>\n",
       "      <th>3</th>\n",
       "      <td>ham</td>\n",
       "      <td>U dun say so early hor... U c already then say...</td>\n",
       "      <td>NaN</td>\n",
       "      <td>NaN</td>\n",
       "      <td>NaN</td>\n",
       "    </tr>\n",
       "    <tr>\n",
       "      <th>4</th>\n",
       "      <td>ham</td>\n",
       "      <td>Nah I don't think he goes to usf, he lives aro...</td>\n",
       "      <td>NaN</td>\n",
       "      <td>NaN</td>\n",
       "      <td>NaN</td>\n",
       "    </tr>\n",
       "  </tbody>\n",
       "</table>\n",
       "</div>"
      ],
      "text/plain": [
       "     v1                                                 v2 Unnamed: 2  \\\n",
       "0   ham  Go until jurong point, crazy.. Available only ...        NaN   \n",
       "1   ham                      Ok lar... Joking wif u oni...        NaN   \n",
       "2  spam  Free entry in 2 a wkly comp to win FA Cup fina...        NaN   \n",
       "3   ham  U dun say so early hor... U c already then say...        NaN   \n",
       "4   ham  Nah I don't think he goes to usf, he lives aro...        NaN   \n",
       "\n",
       "  Unnamed: 3 Unnamed: 4  \n",
       "0        NaN        NaN  \n",
       "1        NaN        NaN  \n",
       "2        NaN        NaN  \n",
       "3        NaN        NaN  \n",
       "4        NaN        NaN  "
      ]
     },
     "execution_count": 3,
     "metadata": {},
     "output_type": "execute_result"
    }
   ],
   "source": [
    "data.head()"
   ]
  },
  {
   "cell_type": "code",
   "execution_count": 4,
   "metadata": {},
   "outputs": [],
   "source": [
    "data=data.drop(['Unnamed: 2','Unnamed: 3','Unnamed: 4'],axis=1)"
   ]
  },
  {
   "cell_type": "code",
   "execution_count": 5,
   "metadata": {},
   "outputs": [],
   "source": [
    "data=data.rename(columns={'v1':'label','v2':'text'})"
   ]
  },
  {
   "cell_type": "code",
   "execution_count": 6,
   "metadata": {},
   "outputs": [
    {
     "data": {
      "text/html": [
       "<div>\n",
       "<style scoped>\n",
       "    .dataframe tbody tr th:only-of-type {\n",
       "        vertical-align: middle;\n",
       "    }\n",
       "\n",
       "    .dataframe tbody tr th {\n",
       "        vertical-align: top;\n",
       "    }\n",
       "\n",
       "    .dataframe thead th {\n",
       "        text-align: right;\n",
       "    }\n",
       "</style>\n",
       "<table border=\"1\" class=\"dataframe\">\n",
       "  <thead>\n",
       "    <tr style=\"text-align: right;\">\n",
       "      <th></th>\n",
       "      <th>label</th>\n",
       "      <th>text</th>\n",
       "    </tr>\n",
       "  </thead>\n",
       "  <tbody>\n",
       "    <tr>\n",
       "      <th>0</th>\n",
       "      <td>ham</td>\n",
       "      <td>Go until jurong point, crazy.. Available only ...</td>\n",
       "    </tr>\n",
       "    <tr>\n",
       "      <th>1</th>\n",
       "      <td>ham</td>\n",
       "      <td>Ok lar... Joking wif u oni...</td>\n",
       "    </tr>\n",
       "    <tr>\n",
       "      <th>2</th>\n",
       "      <td>spam</td>\n",
       "      <td>Free entry in 2 a wkly comp to win FA Cup fina...</td>\n",
       "    </tr>\n",
       "    <tr>\n",
       "      <th>3</th>\n",
       "      <td>ham</td>\n",
       "      <td>U dun say so early hor... U c already then say...</td>\n",
       "    </tr>\n",
       "    <tr>\n",
       "      <th>4</th>\n",
       "      <td>ham</td>\n",
       "      <td>Nah I don't think he goes to usf, he lives aro...</td>\n",
       "    </tr>\n",
       "  </tbody>\n",
       "</table>\n",
       "</div>"
      ],
      "text/plain": [
       "  label                                               text\n",
       "0   ham  Go until jurong point, crazy.. Available only ...\n",
       "1   ham                      Ok lar... Joking wif u oni...\n",
       "2  spam  Free entry in 2 a wkly comp to win FA Cup fina...\n",
       "3   ham  U dun say so early hor... U c already then say...\n",
       "4   ham  Nah I don't think he goes to usf, he lives aro..."
      ]
     },
     "execution_count": 6,
     "metadata": {},
     "output_type": "execute_result"
    }
   ],
   "source": [
    "data.head()"
   ]
  },
  {
   "cell_type": "code",
   "execution_count": 7,
   "metadata": {},
   "outputs": [
    {
     "data": {
      "text/plain": [
       "ham     4825\n",
       "spam     747\n",
       "Name: label, dtype: int64"
      ]
     },
     "execution_count": 7,
     "metadata": {},
     "output_type": "execute_result"
    }
   ],
   "source": [
    "data.label.value_counts()"
   ]
  },
  {
   "cell_type": "code",
   "execution_count": 8,
   "metadata": {},
   "outputs": [
    {
     "data": {
      "text/plain": [
       "Sorry, I'll call later                                                                                                                                                                                                                                                                                                                                                                                                                                          30\n",
       "I cant pick the phone right now. Pls send a message                                                                                                                                                                                                                                                                                                                                                                                                             12\n",
       "Ok...                                                                                                                                                                                                                                                                                                                                                                                                                                                           10\n",
       "Say this slowly.? GOD,I LOVE YOU &amp; I NEED YOU,CLEAN MY HEART WITH YOUR BLOOD.Send this to Ten special people &amp; u c miracle tomorrow, do it,pls,pls do it...                                                                                                                                                                                                                                                                                              4\n",
       "Your opinion about me? 1. Over 2. Jada 3. Kusruthi 4. Lovable 5. Silent 6. Spl character 7. Not matured 8. Stylish 9. Simple Pls reply..                                                                                                                                                                                                                                                                                                                         4\n",
       "Okie                                                                                                                                                                                                                                                                                                                                                                                                                                                             4\n",
       "Ok.                                                                                                                                                                                                                                                                                                                                                                                                                                                              4\n",
       "7 wonders in My WORLD 7th You 6th Ur style 5th Ur smile 4th Ur Personality 3rd Ur Nature 2nd Ur SMS and 1st \\Ur Lovely Friendship\\\"... good morning dear\"                                                                                                                                                                                                                                                                                                        4\n",
       "Ok                                                                                                                                                                                                                                                                                                                                                                                                                                                               4\n",
       "Wen ur lovable bcums angry wid u, dnt take it seriously.. Coz being angry is d most childish n true way of showing deep affection, care n luv!.. kettoda manda... Have nice day da.                                                                                                                                                                                                                                                                              4\n",
       "Please call our customer service representative on FREEPHONE 0808 145 4742 between 9am-11pm as you have WON a guaranteed å£1000 cash or å£5000 prize!                                                                                                                                                                                                                                                                                                            4\n",
       "I am late. I will be there at                                                                                                                                                                                                                                                                                                                                                                                                                                    3\n",
       "K. I will sent it again                                                                                                                                                                                                                                                                                                                                                                                                                                          3\n",
       "Are you this much buzy                                                                                                                                                                                                                                                                                                                                                                                                                                           3\n",
       "I don't know u and u don't know me. Send CHAT to 86688 now and let's find each other! Only 150p/Msg rcvd. HG/Suite342/2Lands/Row/W1J6HL LDN. 18 years or over.                                                                                                                                                                                                                                                                                                   3\n",
       "Ok lor...                                                                                                                                                                                                                                                                                                                                                                                                                                                        3\n",
       "House-Maid is the murderer, coz the man was murdered on  &lt;#&gt; th January.. As public holiday all govt.instituitions are closed,including post office..understand?                                                                                                                                                                                                                                                                                           3\n",
       "I'm in a meeting, call me later at                                                                                                                                                                                                                                                                                                                                                                                                                               3\n",
       "Solve d Case : A Man Was Found Murdered On  &lt;DECIMAL&gt; . &lt;#&gt;  AfterNoon. 1,His wife called Police. 2,Police questioned everyone. 3,Wife: Sir,I was sleeping, when the murder took place. 4.Cook: I was cooking. 5.Gardener: I was picking vegetables. 6.House-Maid: I went 2 d post office. 7.Children: We went 2 play. 8.Neighbour: We went 2 a marriage. Police arrested d murderer Immediately. Who's It? Reply With Reason, If U r Brilliant.     3\n",
       "As I entered my cabin my PA said, '' Happy B'day Boss !!''. I felt special. She askd me 4 lunch. After lunch she invited me to her apartment. We went there.                                                                                                                                                                                                                                                                                                     3\n",
       "Prabha..i'm soryda..realy..frm heart i'm sory                                                                                                                                                                                                                                                                                                                                                                                                                    3\n",
       "Wat makes some people dearer is not just de happiness dat u feel when u meet them but de pain u feel when u miss dem!!!                                                                                                                                                                                                                                                                                                                                          3\n",
       "Sad story of a Man - Last week was my b'day. My Wife did'nt wish me. My Parents forgot n so did my Kids . I went to work. Even my Colleagues did not wish.                                                                                                                                                                                                                                                                                                       3\n",
       "Wishing you and your family Merry \\X\\\" mas and HAPPY NEW Year in advance..\"                                                                                                                                                                                                                                                                                                                                                                                      3\n",
       "Just sleeping..and surfing                                                                                                                                                                                                                                                                                                                                                                                                                                       3\n",
       "As per your request 'Melle Melle (Oru Minnaminunginte Nurungu Vettam)' has been set as your callertune for all Callers. Press *9 to copy your friends Callertune                                                                                                                                                                                                                                                                                                 3\n",
       "No no. I will check all rooms befor activities                                                                                                                                                                                                                                                                                                                                                                                                                   3\n",
       "Wife.how she knew the time of murder exactly                                                                                                                                                                                                                                                                                                                                                                                                                     3\n",
       "Ummmmmaah Many many happy returns of d day my dear sweet heart.. HAPPY BIRTHDAY dear                                                                                                                                                                                                                                                                                                                                                                             3\n",
       "Oh ho. Is this the first time u use these type of words                                                                                                                                                                                                                                                                                                                                                                                                          3\n",
       "                                                                                                                                                                                                                                                                                                                                                                                                                                                                ..\n",
       "Got it..mail panren paru..                                                                                                                                                                                                                                                                                                                                                                                                                                       1\n",
       "Hi dear we saw dear. We both are happy. Where you my battery is low                                                                                                                                                                                                                                                                                                                                                                                              1\n",
       "Its ok chikku, and its my 1 of favourite song..:-)                                                                                                                                                                                                                                                                                                                                                                                                               1\n",
       "Lmao but its so fun...                                                                                                                                                                                                                                                                                                                                                                                                                                           1\n",
       "UÛªve Bin Awarded å£50 to Play 4 Instant Cash. Call 08715203028 To Claim. EVERY 9th Player Wins Min å£50-å£500. OptOut 08718727870                                                                                                                                                                                                                                                                                                                              1\n",
       "Bring it if you got it                                                                                                                                                                                                                                                                                                                                                                                                                                           1\n",
       "I'm so in love with you. I'm excited each day i spend with you. You make me so happy.                                                                                                                                                                                                                                                                                                                                                                            1\n",
       "PRIVATE! Your 2003 Account Statement for 078                                                                                                                                                                                                                                                                                                                                                                                                                     1\n",
       "What happen to her tell the truth                                                                                                                                                                                                                                                                                                                                                                                                                                1\n",
       "No..jst change tat only..                                                                                                                                                                                                                                                                                                                                                                                                                                        1\n",
       "Lol I was gonna last month. I cashed some in but I left &lt;#&gt; just in case. I was collecting more during the week cause they announced it on the blog.                                                                                                                                                                                                                                                                                                       1\n",
       "Thanks a lot for your wishes on my birthday. Thanks you for making my birthday truly memorable.                                                                                                                                                                                                                                                                                                                                                                  1\n",
       "* Thought I didn't see you.                                                                                                                                                                                                                                                                                                                                                                                                                                      1\n",
       "Men always needs a beautiful, intelligent, caring, loving, adjustable, cooperative wife. But the law allows only one wife....                                                                                                                                                                                                                                                                                                                                    1\n",
       "Eerie Nokia tones 4u, rply TONE TITLE to 8007 eg TONE DRACULA to 8007 Titles: GHOST, ADDAMSFA, MUNSTERS, EXORCIST, TWILIGHT www.getzed.co.uk POBox36504W45WQ 150p                                                                                                                                                                                                                                                                                                1\n",
       "And smile for me right now as you go and the world will wonder what you are smiling about and think your crazy and keep away from you ... *grins*                                                                                                                                                                                                                                                                                                                1\n",
       "I might go 2 sch. Yar at e salon now v boring.                                                                                                                                                                                                                                                                                                                                                                                                                   1\n",
       "Latest Nokia Mobile or iPOD MP3 Player +å£400 proze GUARANTEED! Reply with: WIN to 83355 now! Norcorp Ltd.å£1,50/Mtmsgrcvd18+                                                                                                                                                                                                                                                                                                                                    1\n",
       "Jay's getting really impatient and belligerent                                                                                                                                                                                                                                                                                                                                                                                                                   1\n",
       "Slaaaaave ! Where are you ? Must I summon you to me all the time now ? Don't you wish to come to me on your own anymore?                                                                                                                                                                                                                                                                                                                                         1\n",
       "Yes. They replied my mail. I'm going to the management office later. Plus will in to bank later also.or on wednesday.                                                                                                                                                                                                                                                                                                                                            1\n",
       "Hi:)did you asked to waheeda fathima about leave?                                                                                                                                                                                                                                                                                                                                                                                                                1\n",
       "Well that must be a pain to catch                                                                                                                                                                                                                                                                                                                                                                                                                                1\n",
       "Are you ok. What happen to behave like this                                                                                                                                                                                                                                                                                                                                                                                                                      1\n",
       "What was she looking for?                                                                                                                                                                                                                                                                                                                                                                                                                                        1\n",
       "\\Its Ur luck to Love someone. Its Ur fortune to Love the one who Loves U. But                                                                                                                                                                                                                                                                                                                                                                                    1\n",
       "LIFE has never been this much fun and great until you came in. You made it truly special for me. I won't forget you! enjoy @ one gbp/sms                                                                                                                                                                                                                                                                                                                         1\n",
       "Cool. Do you like swimming? I have a pool and jacuzzi at my house.                                                                                                                                                                                                                                                                                                                                                                                               1\n",
       "I have 2 sleeping bags, 1 blanket and paper and  phone details. Anything else?                                                                                                                                                                                                                                                                                                                                                                                   1\n",
       "Aaooooright are you at work?                                                                                                                                                                                                                                                                                                                                                                                                                                     1\n",
       "Name: text, Length: 5169, dtype: int64"
      ]
     },
     "execution_count": 8,
     "metadata": {},
     "output_type": "execute_result"
    }
   ],
   "source": [
    "data.text.value_counts()"
   ]
  },
  {
   "cell_type": "code",
   "execution_count": 9,
   "metadata": {},
   "outputs": [],
   "source": [
    "data['label_num']=data.label.map({'ham':0,'spam':1})"
   ]
  },
  {
   "cell_type": "code",
   "execution_count": 10,
   "metadata": {},
   "outputs": [
    {
     "data": {
      "text/html": [
       "<div>\n",
       "<style scoped>\n",
       "    .dataframe tbody tr th:only-of-type {\n",
       "        vertical-align: middle;\n",
       "    }\n",
       "\n",
       "    .dataframe tbody tr th {\n",
       "        vertical-align: top;\n",
       "    }\n",
       "\n",
       "    .dataframe thead th {\n",
       "        text-align: right;\n",
       "    }\n",
       "</style>\n",
       "<table border=\"1\" class=\"dataframe\">\n",
       "  <thead>\n",
       "    <tr style=\"text-align: right;\">\n",
       "      <th></th>\n",
       "      <th>label</th>\n",
       "      <th>text</th>\n",
       "      <th>label_num</th>\n",
       "    </tr>\n",
       "  </thead>\n",
       "  <tbody>\n",
       "    <tr>\n",
       "      <th>0</th>\n",
       "      <td>ham</td>\n",
       "      <td>Go until jurong point, crazy.. Available only ...</td>\n",
       "      <td>0</td>\n",
       "    </tr>\n",
       "    <tr>\n",
       "      <th>1</th>\n",
       "      <td>ham</td>\n",
       "      <td>Ok lar... Joking wif u oni...</td>\n",
       "      <td>0</td>\n",
       "    </tr>\n",
       "    <tr>\n",
       "      <th>2</th>\n",
       "      <td>spam</td>\n",
       "      <td>Free entry in 2 a wkly comp to win FA Cup fina...</td>\n",
       "      <td>1</td>\n",
       "    </tr>\n",
       "    <tr>\n",
       "      <th>3</th>\n",
       "      <td>ham</td>\n",
       "      <td>U dun say so early hor... U c already then say...</td>\n",
       "      <td>0</td>\n",
       "    </tr>\n",
       "    <tr>\n",
       "      <th>4</th>\n",
       "      <td>ham</td>\n",
       "      <td>Nah I don't think he goes to usf, he lives aro...</td>\n",
       "      <td>0</td>\n",
       "    </tr>\n",
       "  </tbody>\n",
       "</table>\n",
       "</div>"
      ],
      "text/plain": [
       "  label                                               text  label_num\n",
       "0   ham  Go until jurong point, crazy.. Available only ...          0\n",
       "1   ham                      Ok lar... Joking wif u oni...          0\n",
       "2  spam  Free entry in 2 a wkly comp to win FA Cup fina...          1\n",
       "3   ham  U dun say so early hor... U c already then say...          0\n",
       "4   ham  Nah I don't think he goes to usf, he lives aro...          0"
      ]
     },
     "execution_count": 10,
     "metadata": {},
     "output_type": "execute_result"
    }
   ],
   "source": [
    "data.head()"
   ]
  },
  {
   "cell_type": "code",
   "execution_count": 11,
   "metadata": {},
   "outputs": [],
   "source": [
    "from sklearn.model_selection import train_test_split\n",
    "X_train,X_test,Y_train,Y_test=train_test_split(data[\"text\"],data[\"label_num\"],test_size=0.2,random_state=42)\n"
   ]
  },
  {
   "cell_type": "code",
   "execution_count": 12,
   "metadata": {},
   "outputs": [
    {
     "name": "stdout",
     "output_type": "stream",
     "text": [
      "(4457,)\n",
      "(1115,)\n",
      "(4457,)\n",
      "(1115,)\n"
     ]
    },
    {
     "data": {
      "text/plain": [
       "1978    0\n",
       "3989    1\n",
       "3935    0\n",
       "4078    0\n",
       "4086    1\n",
       "4919    0\n",
       "2268    1\n",
       "4696    0\n",
       "3653    0\n",
       "70      0\n",
       "4467    0\n",
       "2418    0\n",
       "2623    0\n",
       "1272    0\n",
       "1454    0\n",
       "831     0\n",
       "5082    0\n",
       "1893    0\n",
       "3269    0\n",
       "238     0\n",
       "5426    0\n",
       "4867    0\n",
       "3435    0\n",
       "5542    0\n",
       "1295    0\n",
       "2998    0\n",
       "1001    1\n",
       "1512    0\n",
       "4370    0\n",
       "3458    1\n",
       "       ..\n",
       "2747    0\n",
       "2047    0\n",
       "2558    0\n",
       "1082    0\n",
       "474     0\n",
       "2904    0\n",
       "4843    1\n",
       "4117    0\n",
       "3385    0\n",
       "4555    0\n",
       "1184    0\n",
       "5051    0\n",
       "5311    0\n",
       "2433    0\n",
       "2391    0\n",
       "769     0\n",
       "1685    0\n",
       "130     0\n",
       "2919    0\n",
       "3171    0\n",
       "3444    0\n",
       "4426    0\n",
       "5334    0\n",
       "466     0\n",
       "3092    0\n",
       "3772    0\n",
       "5191    0\n",
       "5226    0\n",
       "5390    0\n",
       "860     0\n",
       "Name: label_num, Length: 4457, dtype: int64"
      ]
     },
     "execution_count": 12,
     "metadata": {},
     "output_type": "execute_result"
    }
   ],
   "source": [
    "print (X_train.shape)\n",
    "print (X_test.shape)\n",
    "print (Y_train.shape)\n",
    "print (Y_test.shape) \n",
    "Y_train"
   ]
  },
  {
   "cell_type": "code",
   "execution_count": 13,
   "metadata": {},
   "outputs": [],
   "source": [
    "from sklearn.feature_extraction.text import CountVectorizer"
   ]
  },
  {
   "cell_type": "code",
   "execution_count": 14,
   "metadata": {},
   "outputs": [],
   "source": [
    "vect=CountVectorizer()"
   ]
  },
  {
   "cell_type": "code",
   "execution_count": 15,
   "metadata": {},
   "outputs": [],
   "source": [
    "vect.fit(X_train)\n",
    "X_train=vect.transform(X_train)\n",
    "X_test=vect.transform(X_test)"
   ]
  },
  {
   "cell_type": "markdown",
   "metadata": {},
   "source": [
    "## Machine Learning Models"
   ]
  },
  {
   "cell_type": "markdown",
   "metadata": {},
   "source": [
    "### 1)Multinomial Naive Bayes usually works well in case of textual data."
   ]
  },
  {
   "cell_type": "code",
   "execution_count": 33,
   "metadata": {},
   "outputs": [
    {
     "name": "stdout",
     "output_type": "stream",
     "text": [
      "0.9838565022421525\n"
     ]
    }
   ],
   "source": [
    "from sklearn.naive_bayes import MultinomialNB\n",
    "clf2=MultinomialNB()\n",
    "clf2.fit(X_train,Y_train)\n",
    "print (clf2.score(X_test,Y_test))"
   ]
  },
  {
   "cell_type": "markdown",
   "metadata": {},
   "source": [
    "#### Thus we achieve around 98 % accuracy with this model "
   ]
  },
  {
   "cell_type": "markdown",
   "metadata": {},
   "source": [
    "### 2) Logistic Regression"
   ]
  },
  {
   "cell_type": "code",
   "execution_count": 17,
   "metadata": {},
   "outputs": [
    {
     "name": "stdout",
     "output_type": "stream",
     "text": [
      "0.97847533632287\n"
     ]
    },
    {
     "name": "stderr",
     "output_type": "stream",
     "text": [
      "C:\\Users\\parth\\Anaconda3\\lib\\site-packages\\sklearn\\linear_model\\logistic.py:433: FutureWarning: Default solver will be changed to 'lbfgs' in 0.22. Specify a solver to silence this warning.\n",
      "  FutureWarning)\n"
     ]
    }
   ],
   "source": [
    "from sklearn.linear_model import LogisticRegression\n",
    "clf=LogisticRegression()\n",
    "clf.fit(X_train,Y_train)\n",
    "print(clf.score(X_test,Y_test))"
   ]
  },
  {
   "cell_type": "markdown",
   "metadata": {},
   "source": [
    "#### Thus we achieved around 97 % accuraacy with this model"
   ]
  },
  {
   "cell_type": "markdown",
   "metadata": {},
   "source": [
    "### 3) K-NN "
   ]
  },
  {
   "cell_type": "code",
   "execution_count": 18,
   "metadata": {},
   "outputs": [
    {
     "name": "stdout",
     "output_type": "stream",
     "text": [
      "0.9192825112107623\n"
     ]
    }
   ],
   "source": [
    "from sklearn.neighbors import KNeighborsClassifier\n",
    "clf=KNeighborsClassifier(n_neighbors=5)\n",
    "clf.fit(X_train,Y_train)\n",
    "print(clf.score(X_test,Y_test))"
   ]
  },
  {
   "cell_type": "markdown",
   "metadata": {},
   "source": [
    "#### Thus we achieved around 92 % accuraacy with this model"
   ]
  },
  {
   "cell_type": "markdown",
   "metadata": {},
   "source": [
    "## 4)Ensemble Classifier"
   ]
  },
  {
   "cell_type": "code",
   "execution_count": 19,
   "metadata": {},
   "outputs": [
    {
     "name": "stdout",
     "output_type": "stream",
     "text": [
      "0.9650224215246637\n"
     ]
    },
    {
     "name": "stderr",
     "output_type": "stream",
     "text": [
      "C:\\Users\\parth\\Anaconda3\\lib\\site-packages\\sklearn\\ensemble\\forest.py:246: FutureWarning: The default value of n_estimators will change from 10 in version 0.20 to 100 in 0.22.\n",
      "  \"10 in version 0.20 to 100 in 0.22.\", FutureWarning)\n"
     ]
    }
   ],
   "source": [
    "from sklearn.ensemble import RandomForestClassifier\n",
    "clf=RandomForestClassifier()\n",
    "clf.fit(X_train,Y_train)\n",
    "print(clf.score(X_test,Y_test))\n"
   ]
  },
  {
   "cell_type": "markdown",
   "metadata": {},
   "source": [
    "#### Thus we achieved around 97 % accuraacy with this model"
   ]
  },
  {
   "cell_type": "code",
   "execution_count": 20,
   "metadata": {},
   "outputs": [
    {
     "name": "stdout",
     "output_type": "stream",
     "text": [
      "0.967713004484305\n"
     ]
    }
   ],
   "source": [
    "from sklearn.ensemble import AdaBoostClassifier\n",
    "clf=AdaBoostClassifier()\n",
    "clf.fit(X_train,Y_train)\n",
    "print(clf.score(X_test,Y_test))"
   ]
  },
  {
   "cell_type": "markdown",
   "metadata": {},
   "source": [
    "#### Thus we achieved around 97 % accuraacy with this model"
   ]
  },
  {
   "cell_type": "code",
   "execution_count": 50,
   "metadata": {},
   "outputs": [],
   "source": [
    "X=[\"call u back\",\"SIX chances to win CASH! From 100 to 20,000 pounds txt\",\"congratulation parth kulkarni you are one of the patagonia health selected students. You are elegible to get the prize of atleast 100 pounds\"]"
   ]
  },
  {
   "cell_type": "code",
   "execution_count": 51,
   "metadata": {},
   "outputs": [],
   "source": [
    "X=vect.transform(X)"
   ]
  },
  {
   "cell_type": "code",
   "execution_count": 52,
   "metadata": {},
   "outputs": [
    {
     "data": {
      "text/plain": [
       "array([0, 1, 1], dtype=int64)"
      ]
     },
     "execution_count": 52,
     "metadata": {},
     "output_type": "execute_result"
    }
   ],
   "source": [
    "clf2.predict(X)"
   ]
  }
 ],
 "metadata": {
  "kernelspec": {
   "display_name": "Python 3",
   "language": "python",
   "name": "python3"
  },
  "language_info": {
   "codemirror_mode": {
    "name": "ipython",
    "version": 3
   },
   "file_extension": ".py",
   "mimetype": "text/x-python",
   "name": "python",
   "nbconvert_exporter": "python",
   "pygments_lexer": "ipython3",
   "version": "3.7.1"
  }
 },
 "nbformat": 4,
 "nbformat_minor": 2
}
